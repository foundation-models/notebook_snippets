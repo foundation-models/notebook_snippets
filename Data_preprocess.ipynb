{
  "nbformat": 4,
  "nbformat_minor": 0,
  "metadata": {
    "colab": {
      "name": "Data preprocess.ipynb",
      "version": "0.3.2",
      "provenance": [],
      "include_colab_link": true
    },
    "kernelspec": {
      "name": "python3",
      "display_name": "Python 3"
    }
  },
  "cells": [
    {
      "cell_type": "markdown",
      "metadata": {
        "id": "view-in-github",
        "colab_type": "text"
      },
      "source": [
        "<a href=\"https://colab.research.google.com/github/hossein20s/notebook_snippets/blob/master/Data_preprocess.ipynb\" target=\"_parent\"><img src=\"https://colab.research.google.com/assets/colab-badge.svg\" alt=\"Open In Colab\"/></a>"
      ]
    },
    {
      "cell_type": "code",
      "metadata": {
        "id": "Hmqx5tRRyAi3",
        "colab_type": "code",
        "outputId": "d166adff-468d-48fc-9edc-1f9b1662a3eb",
        "colab": {
          "base_uri": "https://localhost:8080/",
          "height": 593
        }
      },
      "source": [
        "!wget bit.ly/initnotebook -O init.ipynb\n",
        "%run init.ipynb"
      ],
      "execution_count": 0,
      "outputs": [
        {
          "output_type": "stream",
          "text": [
            "--2019-06-21 20:44:35--  http://bit.ly/initnotebook\n",
            "Resolving bit.ly (bit.ly)... 67.199.248.10, 67.199.248.11\n",
            "Connecting to bit.ly (bit.ly)|67.199.248.10|:80... connected.\n",
            "HTTP request sent, awaiting response... 301 Moved Permanently\n",
            "Location: https://raw.githubusercontent.com/hossein20s/notebook_snippets/master/InitializeNotebook.ipynb [following]\n",
            "--2019-06-21 20:44:35--  https://raw.githubusercontent.com/hossein20s/notebook_snippets/master/InitializeNotebook.ipynb\n",
            "Resolving raw.githubusercontent.com (raw.githubusercontent.com)... 151.101.0.133, 151.101.64.133, 151.101.128.133, ...\n",
            "Connecting to raw.githubusercontent.com (raw.githubusercontent.com)|151.101.0.133|:443... connected.\n",
            "HTTP request sent, awaiting response... 200 OK\n",
            "Length: 2560 (2.5K) [text/plain]\n",
            "Saving to: ‘init.ipynb’\n",
            "\n",
            "\rinit.ipynb            0%[                    ]       0  --.-KB/s               \rinit.ipynb          100%[===================>]   2.50K  --.-KB/s    in 0s      \n",
            "\n",
            "2019-06-21 20:44:35 (35.0 MB/s) - ‘init.ipynb’ saved [2560/2560]\n",
            "\n",
            "Go to this URL in a browser: https://accounts.google.com/o/oauth2/auth?client_id=947318989803-6bn6qk8qdgf4n4g3pfee6491hc0brc4i.apps.googleusercontent.com&redirect_uri=urn%3Aietf%3Awg%3Aoauth%3A2.0%3Aoob&scope=email%20https%3A%2F%2Fwww.googleapis.com%2Fauth%2Fdocs.test%20https%3A%2F%2Fwww.googleapis.com%2Fauth%2Fdrive%20https%3A%2F%2Fwww.googleapis.com%2Fauth%2Fdrive.photos.readonly%20https%3A%2F%2Fwww.googleapis.com%2Fauth%2Fpeopleapi.readonly&response_type=code\n",
            "\n",
            "Enter your authorization code:\n",
            "··········\n",
            "Mounted at /gdrive\n",
            "Cloning into '/content/lib'...\n",
            "remote: Enumerating objects: 136, done.\u001b[K\n",
            "remote: Counting objects: 100% (136/136), done.\u001b[K\n",
            "remote: Compressing objects: 100% (136/136), done.\u001b[K\n",
            "remote: Total 290 (delta 85), reused 0 (delta 0), pack-reused 154\u001b[K\n",
            "Receiving objects: 100% (290/290), 67.67 KiB | 8.46 MiB/s, done.\n",
            "Resolving deltas: 100% (175/175), done.\n",
            "Already up to date.\n"
          ],
          "name": "stdout"
        },
        {
          "output_type": "stream",
          "text": [
            "Using TensorFlow backend.\n"
          ],
          "name": "stderr"
        },
        {
          "output_type": "stream",
          "text": [
            "save and load models from yaml and json files defined. Everything stored in folder  <built-in function dir>\n",
            "save and load models from yaml and json files defined. Everything stored in folder  <built-in function dir>\n"
          ],
          "name": "stdout"
        }
      ]
    },
    {
      "cell_type": "code",
      "metadata": {
        "id": "D9CXY6CmyfdY",
        "colab_type": "code",
        "outputId": "9100c1ea-47ee-4abf-83ae-d2a1b1f14d43",
        "colab": {
          "base_uri": "https://localhost:8080/",
          "height": 269
        }
      },
      "source": [
        "bucket = getGoogleCloudBucket()\n",
        "!cp data/chsi_dataset.zip .\n",
        "!unzip chsi_dataset.zip"
      ],
      "execution_count": 0,
      "outputs": [
        {
          "output_type": "stream",
          "text": [
            "Archive:  chsi_dataset.zip\n",
            "  inflating: CHSI DataSet.xls        \n",
            "  inflating: DATAELEMENTDESCRIPTION.csv  \n",
            "  inflating: RISKFACTORSANDACCESSTOCARE.csv  \n",
            "  inflating: PREVENTIVESERVICESUSE.csv  \n",
            "  inflating: VUNERABLEPOPSANDENVHEALTH.csv  \n",
            "  inflating: RELATIVEHEALTHIMPORTANCE.csv  \n",
            "  inflating: MEASURESOFBIRTHANDDEATH.csv  \n",
            "  inflating: SUMMARYMEASURESOFHEALTH.csv  \n",
            "  inflating: LEADINGCAUSESOFDEATH.csv  \n",
            "  inflating: DEMOGRAPHICS.csv        \n",
            "  inflating: HEALTHYPEOPLE2010.csv   \n",
            "  inflating: DEFINEDDATAVALUE.csv    \n",
            "  inflating: CSV File Index.txt      \n"
          ],
          "name": "stdout"
        }
      ]
    },
    {
      "cell_type": "code",
      "metadata": {
        "id": "00X-vOEz0M-Y",
        "colab_type": "code",
        "outputId": "47b49738-a1cd-4827-a1e0-4635e66bc05b",
        "colab": {
          "base_uri": "https://localhost:8080/",
          "height": 243
        }
      },
      "source": [
        "!gsutil cp *csv $bucket/data/CHSI/"
      ],
      "execution_count": 0,
      "outputs": [
        {
          "output_type": "stream",
          "text": [
            "Copying file://DATAELEMENTDESCRIPTION.csv [Content-Type=text/csv]...\n",
            "Copying file://DEFINEDDATAVALUE.csv [Content-Type=text/csv]...\n",
            "Copying file://DEMOGRAPHICS.csv [Content-Type=text/csv]...\n",
            "Copying file://HEALTHYPEOPLE2010.csv [Content-Type=text/csv]...\n",
            "\\\n",
            "==> NOTE: You are performing a sequence of gsutil operations that may\n",
            "run significantly faster if you instead use gsutil -m cp ... Please\n",
            "see the -m section under \"gsutil help options\" for further information\n",
            "about when gsutil -m can be advantageous.\n",
            "\n",
            "Copying file://LEADINGCAUSESOFDEATH.csv [Content-Type=text/csv]...\n"
          ],
          "name": "stdout"
        }
      ]
    },
    {
      "cell_type": "code",
      "metadata": {
        "id": "KrDHPpTf0_T8",
        "colab_type": "code",
        "colab": {}
      },
      "source": [
        "!mkdir data/CHSI\n",
        "!cp *csv data/CHSI"
      ],
      "execution_count": 0,
      "outputs": []
    }
  ]
}